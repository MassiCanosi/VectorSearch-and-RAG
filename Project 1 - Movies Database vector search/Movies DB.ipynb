{
 "cells": [
  {
   "cell_type": "markdown",
   "metadata": {},
   "source": [
    "## Project #1: Movies RAG"
   ]
  },
  {
   "cell_type": "code",
   "execution_count": 1,
   "metadata": {},
   "outputs": [],
   "source": [
    "import pymongo\n",
    "import os\n",
    "import requests\n",
    "from dotenv import load_dotenv"
   ]
  },
  {
   "cell_type": "markdown",
   "metadata": {},
   "source": [
    "### Setup MongoDB connection"
   ]
  },
  {
   "cell_type": "code",
   "execution_count": 2,
   "metadata": {},
   "outputs": [],
   "source": [
    "load_dotenv()\n",
    "my_client = os.getenv('myclient')\n",
    "\n",
    "client = pymongo.MongoClient(my_client)\n",
    "db = client.sample_mflix\n",
    "collect = db.movies"
   ]
  },
  {
   "cell_type": "code",
   "execution_count": 3,
   "metadata": {},
   "outputs": [],
   "source": [
    "huggingface_tk = os.getenv('huggingface_tk')\n",
    "embedding_url = \"https://api-inference.huggingface.co/pipeline/feature-extraction/sentence-transformers/all-MiniLM-L6-v2\"\n",
    "\n",
    "hf_token = huggingface_tk"
   ]
  },
  {
   "cell_type": "code",
   "execution_count": null,
   "metadata": {},
   "outputs": [],
   "source": [
    "def generate_embedding(text: str) -> list[float]:\n",
    "\n",
    "    \"\"\" \n",
    "    Set up the embedding creation function\n",
    "    \"\"\"\n",
    "\n",
    "    response = requests.post(\n",
    "        embedding_url, \n",
    "        headers={\"Authorization\": f\"Bearer {hf_token}\"},\n",
    "        json={\"inputs\": text}\n",
    "    )\n",
    "\n",
    "    if response.status_code != 200:\n",
    "        raise ValueError(f\"Request failed with status code {response.status_code}: {response.text}\")\n",
    "\n",
    "    return response.json()\n",
    "\n",
    "\n",
    "## replace data in-place\n",
    "\n",
    "# for doc in collect.find({'plot': {\"$exists\": True}}).limit(25):\n",
    "#     doc['hf_plot_embedding'] = generate_embedding(doc['plot'])\n",
    "#     collect.replace_one({'_id': doc['_id']}, doc)"
   ]
  },
  {
   "cell_type": "markdown",
   "metadata": {},
   "source": [
    "### Use the embeddings; vector search in the mongodb collection, using the vector search aggregation pipeline stage."
   ]
  },
  {
   "cell_type": "markdown",
   "metadata": {},
   "source": [
    "##### --> Atlas Vector Search queries consist of aggregation pipeline stages where the $vectorSearch stage is the first stage in the pipeline"
   ]
  },
  {
   "cell_type": "code",
   "execution_count": null,
   "metadata": {},
   "outputs": [],
   "source": [
    "query = \"___your_keywords_here___\"\n",
    "\n",
    "\n",
    "####################################\n",
    "##  vector search code structure  ##\n",
    "####################################\n",
    "\n",
    "# {\n",
    "#   \"$vectorSearch\": {\n",
    "#     \"exact\": true | false,\n",
    "#     \"filter\": {<filter-specification>},\n",
    "#     \"index\": \"<index-name>\",\n",
    "#     \"limit\": <number-of-results>,\n",
    "#     \"numCandidates\": <number-of-candidates>,\n",
    "#     \"path\": \"<field-to-search>\",\n",
    "#     \"queryVector\": [<array-of-numbers>]\n",
    "#   }\n",
    "# }\n",
    "\n",
    "# !!! queryvector is the generated vector from the specific query used. \n",
    "# !!! index is the search index created inside MongoDB by the admin.\n",
    "\n",
    "\n",
    "####################################\n",
    "####################################\n",
    "\n",
    "\n",
    "results = collect.aggregate([\n",
    "    {\n",
    "            \"$vectorSearch\": {\n",
    "            \"index\": \"PlotSemanticSearch\",\n",
    "            \"limit\": 4,\n",
    "            \"numCandidates\": 100,\n",
    "            \"path\": \"hf_plot_embedding\",\n",
    "            \"queryVector\": generate_embedding(query)\n",
    "        }\n",
    "    }\n",
    "])\n",
    "\n",
    "\n",
    "for document in results:\n",
    "    print(f\"Movie Name: {document[\"title\"]} ,\\nMovie plot: {document[\"plot\"]}\\nRelease Year: {document[\"year\"]}\\nRating: {document[\"critic\"][\"rating\"]}\")\n"
   ]
  }
 ],
 "metadata": {
  "kernelspec": {
   "display_name": "base",
   "language": "python",
   "name": "python3"
  },
  "language_info": {
   "codemirror_mode": {
    "name": "ipython",
    "version": 3
   },
   "file_extension": ".py",
   "mimetype": "text/x-python",
   "name": "python",
   "nbconvert_exporter": "python",
   "pygments_lexer": "ipython3",
   "version": "3.11.4"
  }
 },
 "nbformat": 4,
 "nbformat_minor": 2
}
