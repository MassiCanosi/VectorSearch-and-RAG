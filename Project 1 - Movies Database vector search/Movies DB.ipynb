{
 "cells": [
  {
   "cell_type": "markdown",
   "metadata": {},
   "source": [
    "## Project #1: Movies RAG"
   ]
  },
  {
   "cell_type": "code",
   "execution_count": 10,
   "metadata": {},
   "outputs": [],
   "source": [
    "import pymongo\n",
    "import os\n",
    "import requests\n",
    "from dotenv import load_dotenv\n",
    "from termcolor import colored"
   ]
  },
  {
   "cell_type": "markdown",
   "metadata": {},
   "source": [
    "### Setup MongoDB connection"
   ]
  },
  {
   "cell_type": "code",
   "execution_count": 3,
   "metadata": {},
   "outputs": [],
   "source": [
    "load_dotenv()\n",
    "my_client = os.getenv('myclient')\n",
    "\n",
    "client = pymongo.MongoClient(my_client)\n",
    "db = client.sample_mflix\n",
    "collect = db.movies"
   ]
  },
  {
   "cell_type": "code",
   "execution_count": 4,
   "metadata": {},
   "outputs": [],
   "source": [
    "huggingface_tk = os.getenv('huggingface_tk')\n",
    "embedding_url = \"https://api-inference.huggingface.co/pipeline/feature-extraction/sentence-transformers/all-MiniLM-L6-v2\"\n",
    "\n",
    "hf_token = huggingface_tk"
   ]
  },
  {
   "cell_type": "code",
   "execution_count": 8,
   "metadata": {},
   "outputs": [],
   "source": [
    "def generate_embedding(text: str) -> list[float]:\n",
    "\n",
    "    \"\"\" \n",
    "    Set up the embedding creation function\n",
    "    \"\"\"\n",
    "\n",
    "    response = requests.post(\n",
    "        embedding_url, \n",
    "        headers={\"Authorization\": f\"Bearer {hf_token}\"},\n",
    "        json={\"inputs\": text}\n",
    "    )\n",
    "\n",
    "    if response.status_code != 200:\n",
    "        raise ValueError(f\"Request failed with status code {response.status_code}: {response.text}\")\n",
    "\n",
    "    return response.json()\n",
    "\n",
    "\n",
    "## replace data in-place\n",
    "\n",
    "# for doc in collect.find({'plot': {\"$exists\": True}}).limit(25):\n",
    "#     doc['hf_plot_embedding'] = generate_embedding(doc['plot'])\n",
    "#     collect.replace_one({'_id': doc['_id']}, doc)"
   ]
  },
  {
   "cell_type": "markdown",
   "metadata": {},
   "source": [
    "### Use the embeddings; vector search in the mongodb collection, using the vector search aggregation pipeline stage."
   ]
  },
  {
   "cell_type": "markdown",
   "metadata": {},
   "source": [
    "##### --> Atlas Vector Search queries consist of aggregation pipeline stages where the $vectorSearch stage is the first stage in the pipeline"
   ]
  },
  {
   "cell_type": "code",
   "execution_count": 13,
   "metadata": {},
   "outputs": [
    {
     "name": "stdout",
     "output_type": "stream",
     "text": [
      "\u001b[1m\u001b[33mMovie Name: The Saphead ,\n",
      "Movie plot: The simple-minded son of a rich financier must find his own way in the world.\n",
      "Release Year: 1920\n",
      "Rating: 6.2\u001b[0m\n",
      "----------------------------------------------\n",
      "\u001b[1m\u001b[33mMovie Name: Wild and Woolly ,\n",
      "Movie plot: A rich young Easterner who has always wanted to live in \"the Wild West\" plans to move to a Western town. Unknown to him, the town's \"wild\" days are long gone, and it is an orderly, ...\n",
      "Release Year: 1917\n",
      "Rating: 6.9\u001b[0m\n",
      "----------------------------------------------\n",
      "\u001b[1m\u001b[33mMovie Name: The Blue Bird ,\n",
      "Movie plot: Two peasant children, Mytyl and Tyltyl, are led by Berylune, a fairy, to search for the Blue Bird of Happiness. Berylune gives Tyltyl a cap with a diamond setting, and when Tyltyl turns the...\n",
      "Release Year: 1918\n",
      "Rating: 6.6\u001b[0m\n",
      "----------------------------------------------\n",
      "\u001b[1m\u001b[33mMovie Name: The Great Train Robbery ,\n",
      "Movie plot: A group of bandits stage a brazen train hold-up, only to find a determined posse hot on their heels.\n",
      "Release Year: 1903\n",
      "Rating: 7.4\u001b[0m\n",
      "----------------------------------------------\n"
     ]
    }
   ],
   "source": [
    "query = \"___your_keywords_here___\"\n",
    "\n",
    "\n",
    "####################################\n",
    "##  vector search code structure  ##\n",
    "####################################\n",
    "\n",
    "# {\n",
    "#   \"$vectorSearch\": {\n",
    "#     \"exact\": true | false,\n",
    "#     \"filter\": {<filter-specification>},\n",
    "#     \"index\": \"<index-name>\",\n",
    "#     \"limit\": <number-of-results>,\n",
    "#     \"numCandidates\": <number-of-candidates>,\n",
    "#     \"path\": \"<field-to-search>\",\n",
    "#     \"queryVector\": [<array-of-numbers>]\n",
    "#   }\n",
    "# }\n",
    "\n",
    "# !!! queryvector is the generated vector from the specific query used. \n",
    "# !!! index is the search index created inside MongoDB by the admin.\n",
    "\n",
    "\n",
    "####################################\n",
    "####################################\n",
    "\n",
    "\n",
    "results = collect.aggregate([\n",
    "    {\n",
    "            \"$vectorSearch\": {\n",
    "            \"index\": \"PlotSemanticSearch\",\n",
    "            \"limit\": 4,\n",
    "            \"numCandidates\": 100,\n",
    "            \"path\": \"hf_plot_embedding\",\n",
    "            \"queryVector\": generate_embedding(query)\n",
    "        }\n",
    "    }\n",
    "])\n",
    "\n",
    "\n",
    "for document in results:\n",
    "    print(colored(f'Movie Name: {document[\"title\"]} ,\\nMovie plot: {document[\"plot\"]}\\nRelease Year: {document[\"year\"]}\\nRating: {document[\"imdb\"][\"rating\"]}', color='yellow', attrs=['bold']))\n",
    "    print('----------------------------------------------')\n"
   ]
  }
 ],
 "metadata": {
  "kernelspec": {
   "display_name": "base",
   "language": "python",
   "name": "python3"
  },
  "language_info": {
   "codemirror_mode": {
    "name": "ipython",
    "version": 3
   },
   "file_extension": ".py",
   "mimetype": "text/x-python",
   "name": "python",
   "nbconvert_exporter": "python",
   "pygments_lexer": "ipython3",
   "version": "3.11.4"
  }
 },
 "nbformat": 4,
 "nbformat_minor": 2
}
